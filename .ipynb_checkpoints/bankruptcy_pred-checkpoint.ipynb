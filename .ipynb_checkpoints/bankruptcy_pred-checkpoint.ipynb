{
 "cells": [
  {
   "cell_type": "code",
   "execution_count": 1,
   "id": "59a50b52-71ab-43aa-9ce4-d489ea72751f",
   "metadata": {},
   "outputs": [
    {
     "name": "stdout",
     "output_type": "stream",
     "text": [
      "  status_label  year       X1        X2      X3       X4       X5      X6  \\\n",
      "0        alive  1999  511.267   833.107  18.373   89.031  336.018  35.163   \n",
      "1        alive  2000  485.856   713.811  18.577   64.367  320.590  18.531   \n",
      "2        alive  2001  436.656   526.477  22.496   27.207  286.588 -58.939   \n",
      "3        alive  2002  396.412   496.747  27.172   30.745  259.954 -12.410   \n",
      "4        alive  2003  432.204   523.302  26.680   47.491  247.245   3.504   \n",
      "5        alive  2004  474.542   598.172  27.950   61.774  255.477  15.453   \n",
      "6        alive  2005  624.454   704.081  29.222   91.877  323.592  35.163   \n",
      "7        alive  2006  645.721   837.171  32.199  118.907  342.593  58.660   \n",
      "8        alive  2007  783.431  1080.895  39.952  168.522  435.608  75.144   \n",
      "9        alive  2008  851.312  1110.677  40.551  166.080  477.424  78.651   \n",
      "\n",
      "        X7         X8        X9       X10      X11      X12      X13      X14  \\\n",
      "0  128.348   372.7519  1024.333   740.998  180.447   70.658  191.226  163.816   \n",
      "1  115.187   377.1180   874.255   701.854  179.987   45.790  160.444  125.392   \n",
      "2   77.528   364.5928   638.721   710.199  217.699    4.711  112.244  150.464   \n",
      "3   66.322   143.3295   606.337   686.621  164.658    3.573  109.590  203.575   \n",
      "4  104.661   308.9071   651.958   709.292  248.666   20.811  128.656  131.261   \n",
      "5  127.121   522.6794   747.848   732.230  227.159   33.824  149.676  160.025   \n",
      "6  136.272   882.6283   897.284   978.819  318.576   62.655  193.203  187.788   \n",
      "7  181.691  1226.1925  1061.169  1067.633  253.611   86.708  223.998  256.506   \n",
      "8  202.472   747.5434  1384.919  1362.010  507.918  128.570  304.024  218.499   \n",
      "9  227.300   571.5948  1423.976  1377.511  392.984  125.529  313.299  254.418   \n",
      "\n",
      "       X15       X16      X17       X18  \n",
      "0  201.026  1024.333  401.483   935.302  \n",
      "1  204.065   874.255  361.642   809.888  \n",
      "2  139.603   638.721  399.964   611.514  \n",
      "3  124.106   606.337  391.633   575.592  \n",
      "4  131.884   651.958  407.608   604.467  \n",
      "5  142.450   747.848  417.486   686.074  \n",
      "6  183.550   897.284  556.102   805.407  \n",
      "7  242.153  1061.169  573.390   942.262  \n",
      "8  318.184  1384.919  776.755  1216.397  \n",
      "9  385.851  1423.976  720.616  1257.896  \n"
     ]
    }
   ],
   "source": [
    "import numpy as np\n",
    "import pandas as pd\n",
    "import seaborn as sns\n",
    "from sklearn.model_selection import train_test_split\n",
    "from sklearn.preprocessing import StandardScaler\n",
    "from matplotlib import pyplot as plt\n",
    "\n",
    "df = pd.read_csv(\"american_bankruptcy.csv\")\n",
    "df = df.drop(columns = [\"company_name\"])\n",
    "print(df.head(10))"
   ]
  },
  {
   "cell_type": "markdown",
   "id": "3e344ea3-9046-4e1e-8446-098515d358ee",
   "metadata": {},
   "source": [
    "-Import statements\n",
    "-Reading the csv file contents containing our bankruptcy prediction data into a pandas DataFrame\n",
    "-Dropping the company names column since it's irrelevant to our model"
   ]
  },
  {
   "cell_type": "code",
   "execution_count": 2,
   "id": "088a775a-54da-42fc-b1b7-ed611291ad44",
   "metadata": {},
   "outputs": [
    {
     "name": "stdout",
     "output_type": "stream",
     "text": [
      "\n",
      "Missing values per column:\n",
      " status_label    0\n",
      "year            0\n",
      "X1              0\n",
      "X2              0\n",
      "X3              0\n",
      "X4              0\n",
      "X5              0\n",
      "X6              0\n",
      "X7              0\n",
      "X8              0\n",
      "X9              0\n",
      "X10             0\n",
      "X11             0\n",
      "X12             0\n",
      "X13             0\n",
      "X14             0\n",
      "X15             0\n",
      "X16             0\n",
      "X17             0\n",
      "X18             0\n",
      "dtype: int64\n",
      "\n",
      "Duplicates in the dataset: 0\n"
     ]
    }
   ],
   "source": [
    "# 1. DATA PREPROCESSING\n",
    "\n",
    "# Data Cleaning\n",
    "\n",
    "missing_values = df.isnull().sum()\n",
    "print(\"\\nMissing values per column:\\n\", missing_values)\n",
    "duplicates = df.duplicated().sum()\n",
    "print(\"\\nDuplicates in the dataset:\", duplicates)"
   ]
  },
  {
   "cell_type": "markdown",
   "id": "a3aebc2e-a8fc-4635-84b9-5cae8c2a0407",
   "metadata": {},
   "source": []
  },
  {
   "cell_type": "code",
   "execution_count": 3,
   "id": "57a51a9b-3438-4901-883b-bc757b483aa3",
   "metadata": {},
   "outputs": [
    {
     "name": "stdout",
     "output_type": "stream",
     "text": [
      "\n",
      "Labels in the dataset: ['alive' 'failed']\n",
      "   year       X1        X2      X3       X4       X5      X6       X7  \\\n",
      "0  1999  511.267   833.107  18.373   89.031  336.018  35.163  128.348   \n",
      "1  2000  485.856   713.811  18.577   64.367  320.590  18.531  115.187   \n",
      "2  2001  436.656   526.477  22.496   27.207  286.588 -58.939   77.528   \n",
      "3  2002  396.412   496.747  27.172   30.745  259.954 -12.410   66.322   \n",
      "4  2003  432.204   523.302  26.680   47.491  247.245   3.504  104.661   \n",
      "5  2004  474.542   598.172  27.950   61.774  255.477  15.453  127.121   \n",
      "6  2005  624.454   704.081  29.222   91.877  323.592  35.163  136.272   \n",
      "7  2006  645.721   837.171  32.199  118.907  342.593  58.660  181.691   \n",
      "8  2007  783.431  1080.895  39.952  168.522  435.608  75.144  202.472   \n",
      "9  2008  851.312  1110.677  40.551  166.080  477.424  78.651  227.300   \n",
      "\n",
      "          X8        X9       X10      X11      X12      X13      X14      X15  \\\n",
      "0   372.7519  1024.333   740.998  180.447   70.658  191.226  163.816  201.026   \n",
      "1   377.1180   874.255   701.854  179.987   45.790  160.444  125.392  204.065   \n",
      "2   364.5928   638.721   710.199  217.699    4.711  112.244  150.464  139.603   \n",
      "3   143.3295   606.337   686.621  164.658    3.573  109.590  203.575  124.106   \n",
      "4   308.9071   651.958   709.292  248.666   20.811  128.656  131.261  131.884   \n",
      "5   522.6794   747.848   732.230  227.159   33.824  149.676  160.025  142.450   \n",
      "6   882.6283   897.284   978.819  318.576   62.655  193.203  187.788  183.550   \n",
      "7  1226.1925  1061.169  1067.633  253.611   86.708  223.998  256.506  242.153   \n",
      "8   747.5434  1384.919  1362.010  507.918  128.570  304.024  218.499  318.184   \n",
      "9   571.5948  1423.976  1377.511  392.984  125.529  313.299  254.418  385.851   \n",
      "\n",
      "        X16      X17       X18  status_encoding  \n",
      "0  1024.333  401.483   935.302                0  \n",
      "1   874.255  361.642   809.888                0  \n",
      "2   638.721  399.964   611.514                0  \n",
      "3   606.337  391.633   575.592                0  \n",
      "4   651.958  407.608   604.467                0  \n",
      "5   747.848  417.486   686.074                0  \n",
      "6   897.284  556.102   805.407                0  \n",
      "7  1061.169  573.390   942.262                0  \n",
      "8  1384.919  776.755  1216.397                0  \n",
      "9  1423.976  720.616  1257.896                0  \n"
     ]
    }
   ],
   "source": [
    "print(\"\\nLabels in the dataset:\", df[\"status_label\"].unique()) \n",
    "df[\"status_encoding\"] = df[\"status_label\"].map({\"alive\": 0, \"failed\": 1})\n",
    "df[\"status_encoding\"] = df[\"status_encoding\"].astype(int)\n",
    "df = df.drop(columns = [\"status_label\"])\n",
    "print(df.head(10))"
   ]
  },
  {
   "cell_type": "markdown",
   "id": "a894371b-c5f0-4b93-9a0a-af2f1bd84883",
   "metadata": {},
   "source": []
  },
  {
   "cell_type": "code",
   "execution_count": null,
   "id": "bff11fb5-3dd8-4761-a230-09ee2674e2fb",
   "metadata": {},
   "outputs": [],
   "source": [
    "# Data Scaling/Standardization\n",
    "\n",
    "scaler = StandardScaler()\n",
    "\n",
    "X = df.iloc[:, :-1]\n",
    "y = df[\"status_encoding\"]\n",
    "X_train, X_test, y_train, y_test = train_test_split(X, y, random_state = 21, test_size = 0.20, shuffle = True)\n",
    "\n",
    "X_train_scaled = scaler.fit_transform(X_train)\n",
    "X_test_scaled = scaler.transform(X_test)\n",
    "\n",
    "train_scaled = pd.concat([pd.DataFrame(X_train_scaled, columns = X.columns), pd.DataFrame(y_train.reset_index(drop = True), columns = [\"status_encoding\"])], axis = 1)\n",
    "test_scaled = pd.concat([pd.DataFrame(X_test_scaled, columns = X.columns), pd.DataFrame(y_test.reset_index(drop = True), columns = [\"status_encoding\"])], axis = 1)\n",
    "df_scaled = pd.concat([train_scaled, test_scaled], axis = 0)\n",
    "print(df_scaled.head(10))\n",
    "\n",
    "##sns.pairplot(df_scaled, hue='status_encoding')\n",
    "##plt.show()\n",
    "\n",
    "\"\"\"\n",
    "for column in df_scaled.columns[:-1]:  # Exclude the target column\n",
    "    plt.figure(figsize = (10, 5))\n",
    "    sns.boxplot(x = \"status_encoding\", y = column, data = df_scaled)\n",
    "    plt.title(f'Box plot of {column} by Bankruptcy Status')\n",
    "    plt.show()\n",
    "\n",
    "for column in df_scaled.columns[:-1]:  # Exclude the target column\n",
    "    plt.figure(figsize=(10, 5))\n",
    "    sns.violinplot(x='status_encoding', y=column, data=df_scaled)\n",
    "    plt.title(f'Violin plot of {column} by Bankruptcy Status')\n",
    "    plt.show()\n",
    "\"\"\""
   ]
  },
  {
   "cell_type": "code",
   "execution_count": null,
   "id": "e5ec8e0d-9b4f-419b-afd9-eca3187b3b0c",
   "metadata": {},
   "outputs": [],
   "source": []
  }
 ],
 "metadata": {
  "kernelspec": {
   "display_name": "Python 3 (ipykernel)",
   "language": "python",
   "name": "python3"
  },
  "language_info": {
   "codemirror_mode": {
    "name": "ipython",
    "version": 3
   },
   "file_extension": ".py",
   "mimetype": "text/x-python",
   "name": "python",
   "nbconvert_exporter": "python",
   "pygments_lexer": "ipython3",
   "version": "3.11.7"
  }
 },
 "nbformat": 4,
 "nbformat_minor": 5
}
